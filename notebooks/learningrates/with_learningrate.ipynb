{
 "cells": [
  {
   "cell_type": "code",
   "execution_count": 17,
   "metadata": {},
   "outputs": [
    {
     "name": "stderr",
     "output_type": "stream",
     "text": [
      "2024/10/29 10:00:22 INFO mlflow.tracking.fluent: Experiment with name 'dog-cat-classification-optimizer-comparison' does not exist. Creating a new experiment.\n"
     ]
    },
    {
     "name": "stdout",
     "output_type": "stream",
     "text": [
      "Epoch 1/2\n",
      "\u001b[1m625/625\u001b[0m \u001b[32m━━━━━━━━━━━━━━━━━━━━\u001b[0m\u001b[37m\u001b[0m \u001b[1m1130s\u001b[0m 1s/step - accuracy: 0.9986 - loss: 0.0050\n",
      "Epoch 2/2\n",
      "\u001b[1m625/625\u001b[0m \u001b[32m━━━━━━━━━━━━━━━━━━━━\u001b[0m\u001b[37m\u001b[0m \u001b[1m932s\u001b[0m 1s/step - accuracy: 1.0000 - loss: 4.1889e-08\n"
     ]
    },
    {
     "name": "stderr",
     "output_type": "stream",
     "text": [
      "2024/10/29 10:35:00 WARNING mlflow.keras.save: You are saving a Keras model without specifying model signature.\n",
      "2024/10/29 10:36:06 WARNING mlflow.models.model: Model logged without a signature and input example. Please set `input_example` parameter when logging the model to auto infer the model signature.\n",
      "2024/10/29 10:36:08 INFO mlflow.tracking._tracking_service.client: 🏃 View run Adam_2epochs_32batch at: http://localhost:5000/#/experiments/847731672344576682/runs/53f2042484724f20bd9fc32a1c40eaf4.\n",
      "2024/10/29 10:36:08 INFO mlflow.tracking._tracking_service.client: 🧪 View experiment at: http://localhost:5000/#/experiments/847731672344576682.\n"
     ]
    },
    {
     "name": "stdout",
     "output_type": "stream",
     "text": [
      "Epoch 1/2\n",
      "\u001b[1m625/625\u001b[0m \u001b[32m━━━━━━━━━━━━━━━━━━━━\u001b[0m\u001b[37m\u001b[0m \u001b[1m1659s\u001b[0m 2s/step - accuracy: 0.9878 - loss: 0.0365\n",
      "Epoch 2/2\n",
      "\u001b[1m625/625\u001b[0m \u001b[32m━━━━━━━━━━━━━━━━━━━━\u001b[0m\u001b[37m\u001b[0m \u001b[1m1261s\u001b[0m 2s/step - accuracy: 1.0000 - loss: 5.8203e-04\n"
     ]
    },
    {
     "name": "stderr",
     "output_type": "stream",
     "text": [
      "2024/10/29 11:25:45 WARNING mlflow.keras.save: You are saving a Keras model without specifying model signature.\n",
      "2024/10/29 11:26:24 WARNING mlflow.models.model: Model logged without a signature and input example. Please set `input_example` parameter when logging the model to auto infer the model signature.\n",
      "2024/10/29 11:26:24 INFO mlflow.tracking._tracking_service.client: 🏃 View run SGD_2epochs_32batch at: http://localhost:5000/#/experiments/847731672344576682/runs/1505b19127ed41068eaef491edfe795e.\n",
      "2024/10/29 11:26:24 INFO mlflow.tracking._tracking_service.client: 🧪 View experiment at: http://localhost:5000/#/experiments/847731672344576682.\n"
     ]
    },
    {
     "name": "stdout",
     "output_type": "stream",
     "text": [
      "Epoch 1/2\n",
      "\u001b[1m625/625\u001b[0m \u001b[32m━━━━━━━━━━━━━━━━━━━━\u001b[0m\u001b[37m\u001b[0m \u001b[1m2386s\u001b[0m 2s/step - accuracy: 0.9933 - loss: 0.0115\n",
      "Epoch 2/2\n",
      "\u001b[1m625/625\u001b[0m \u001b[32m━━━━━━━━━━━━━━━━━━━━\u001b[0m\u001b[37m\u001b[0m \u001b[1m973s\u001b[0m 2s/step - accuracy: 1.0000 - loss: 1.5788e-06\n"
     ]
    },
    {
     "name": "stderr",
     "output_type": "stream",
     "text": [
      "2024/10/29 12:22:42 WARNING mlflow.keras.save: You are saving a Keras model without specifying model signature.\n",
      "2024/10/29 12:24:26 WARNING mlflow.models.model: Model logged without a signature and input example. Please set `input_example` parameter when logging the model to auto infer the model signature.\n",
      "2024/10/29 12:24:28 INFO mlflow.tracking._tracking_service.client: 🏃 View run RMSprop_2epochs_32batch at: http://localhost:5000/#/experiments/847731672344576682/runs/78d1fa17ec6449eda341423ab8e4f864.\n",
      "2024/10/29 12:24:28 INFO mlflow.tracking._tracking_service.client: 🧪 View experiment at: http://localhost:5000/#/experiments/847731672344576682.\n"
     ]
    },
    {
     "name": "stdout",
     "output_type": "stream",
     "text": [
      "Epoch 1/2\n",
      "\u001b[1m625/625\u001b[0m \u001b[32m━━━━━━━━━━━━━━━━━━━━\u001b[0m\u001b[37m\u001b[0m \u001b[1m1848s\u001b[0m 2s/step - accuracy: 0.9725 - loss: 0.0620\n",
      "Epoch 2/2\n",
      "\u001b[1m625/625\u001b[0m \u001b[32m━━━━━━━━━━━━━━━━━━━━\u001b[0m\u001b[37m\u001b[0m \u001b[1m1328s\u001b[0m 2s/step - accuracy: 1.0000 - loss: 1.9257e-04\n"
     ]
    },
    {
     "name": "stderr",
     "output_type": "stream",
     "text": [
      "2024/10/29 13:18:27 WARNING mlflow.keras.save: You are saving a Keras model without specifying model signature.\n",
      "2024/10/29 13:20:18 WARNING mlflow.models.model: Model logged without a signature and input example. Please set `input_example` parameter when logging the model to auto infer the model signature.\n",
      "2024/10/29 13:20:18 INFO mlflow.tracking._tracking_service.client: 🏃 View run Adam_2epochs_32batch at: http://localhost:5000/#/experiments/847731672344576682/runs/32a8b8456b314993b5cd1133d6f4dc29.\n",
      "2024/10/29 13:20:18 INFO mlflow.tracking._tracking_service.client: 🧪 View experiment at: http://localhost:5000/#/experiments/847731672344576682.\n"
     ]
    }
   ],
   "source": [
    "# Import necessary libraries\n",
    "import mlflow\n",
    "import mlflow.keras\n",
    "import tensorflow as tf\n",
    "from tensorflow import keras\n",
    "import os\n",
    "from os import path, listdir\n",
    "\n",
    "# Define the function to load the dataset\n",
    "def load_image_dataset(file_path):\n",
    "    all_image_dirs = [os.path.join(file_path, f) for f in os.listdir(file_path) if not os.path.isdir(os.path.join(file_path, f))]\n",
    "    all_image_labels = []\n",
    "    for f in all_image_dirs:\n",
    "        if \"cat\" in f:\n",
    "            all_image_labels.append(0)\n",
    "        else:\n",
    "            all_image_labels.append(1)\n",
    "    return all_image_dirs, all_image_labels\n",
    "\n",
    "# Load dataset\n",
    "train_path = r\"C:/Users/AnanyaSarkar/Documents/dogscats/data/train\"\n",
    "all_image_dirs, all_image_labels = load_image_dataset(train_path)\n",
    "\n",
    "# Set up MLflow experiment\n",
    "mlflow.set_experiment(\"dog-cat-classification-optimizer-comparison\")\n",
    "\n",
    "# Split the data into training and testing sets\n",
    "num_train_image = int(len(all_image_labels) * 0.8)\n",
    "train_image_dirs, train_label = all_image_dirs[:num_train_image], all_image_labels[:num_train_image]\n",
    "test_image_dirs, test_label = all_image_dirs[num_train_image:], all_image_labels[num_train_image:]\n",
    "\n",
    "# Create TensorFlow datasets\n",
    "train_path_label = tf.data.Dataset.from_tensor_slices((train_image_dirs, train_label))\n",
    "test_path_label = tf.data.Dataset.from_tensor_slices((test_image_dirs, test_label))\n",
    "\n",
    "# Define the image preprocessing function\n",
    "def load_and_preprocess_image(path):\n",
    "    image = tf.io.read_file(path)\n",
    "    image = tf.image.decode_jpeg(image, channels=3)\n",
    "    image = tf.image.resize(image, [192, 192])\n",
    "    image /= 255.0  # Normalize to [0,1]\n",
    "    image = 2 * image - 1  # Normalize to [-1,1]\n",
    "    return image\n",
    "\n",
    "# Prepare the training and testing datasets\n",
    "train_image_label_ds = train_path_label.map(lambda x, y: (load_and_preprocess_image(x), y))\n",
    "test_image_label_ds = test_path_label.map(lambda x, y: (load_and_preprocess_image(x), y)).batch(1)\n",
    "\n",
    "# Define the CNN model\n",
    "def create_model(optimizer):\n",
    "    mobile_net = tf.keras.applications.MobileNetV2(input_shape=(192, 192, 3), include_top=False)\n",
    "    mobile_net.trainable = False  # Freeze the base model\n",
    "    cnn_model = keras.models.Sequential([\n",
    "        mobile_net,\n",
    "        keras.layers.GlobalAveragePooling2D(),\n",
    "        keras.layers.Flatten(),\n",
    "        keras.layers.Dense(64, activation=\"relu\"),\n",
    "        keras.layers.Dense(2, activation=\"softmax\")\n",
    "    ])\n",
    "    cnn_model.compile(optimizer=optimizer,\n",
    "                      loss='sparse_categorical_crossentropy',\n",
    "                      metrics=[\"accuracy\"])\n",
    "    return cnn_model\n",
    "\n",
    "# Define optimizer variations\n",
    "optimizers = [\n",
    "    tf.keras.optimizers.Adam(),\n",
    "    tf.keras.optimizers.SGD(),\n",
    "    tf.keras.optimizers.RMSprop(),\n",
    "    tf.keras.optimizers.Adam(learning_rate=0.0001)  # Adding a fourth optimizer variation with a different learning rate\n",
    "]\n",
    "\n",
    "EPOCHS = 2\n",
    "BATCH_SIZE = 32\n",
    "AUTOTUNE = tf.data.experimental.AUTOTUNE\n",
    "steps_per_epoch = len(train_image_dirs) // BATCH_SIZE\n",
    "\n",
    "# Train models with different optimizers and log results\n",
    "for optimizer in optimizers:\n",
    "    optimizer_name = optimizer.__class__.__name__\n",
    "    # Create a descriptive run name\n",
    "    run_name = f\"{optimizer_name}_{EPOCHS}epochs_{BATCH_SIZE}batch\"\n",
    "    \n",
    "    with mlflow.start_run(run_name=run_name):\n",
    "        # Log parameters for the current run\n",
    "        mlflow.log_param(\"optimizer\", optimizer_name)\n",
    "        mlflow.log_param(\"batch_size\", BATCH_SIZE)\n",
    "        mlflow.log_param(\"epochs\", EPOCHS)\n",
    "        \n",
    "        # Create and fit the model\n",
    "        cnn_model = create_model(optimizer)\n",
    "        train_ds = train_image_label_ds.shuffle(buffer_size=len(train_image_dirs)).repeat().batch(BATCH_SIZE).prefetch(buffer_size=AUTOTUNE)\n",
    "        history = cnn_model.fit(train_ds, epochs=EPOCHS, steps_per_epoch=steps_per_epoch)\n",
    "\n",
    "        # Log metrics\n",
    "        mlflow.log_metric(\"accuracy\", history.history['accuracy'][-1])\n",
    "        mlflow.log_metric(\"loss\", history.history['loss'][-1])\n",
    "\n",
    "        # Log the model in MLflow\n",
    "        mlflow.keras.log_model(cnn_model, \"model\")\n"
   ]
  },
  {
   "cell_type": "code",
   "execution_count": null,
   "metadata": {},
   "outputs": [],
   "source": []
  }
 ],
 "metadata": {
  "kernelspec": {
   "display_name": ".venv",
   "language": "python",
   "name": "python3"
  },
  "language_info": {
   "codemirror_mode": {
    "name": "ipython",
    "version": 3
   },
   "file_extension": ".py",
   "mimetype": "text/x-python",
   "name": "python",
   "nbconvert_exporter": "python",
   "pygments_lexer": "ipython3",
   "version": "3.12.5"
  }
 },
 "nbformat": 4,
 "nbformat_minor": 2
}
